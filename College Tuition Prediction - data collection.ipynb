{
 "cells": [
  {
   "cell_type": "markdown",
   "metadata": {},
   "source": [
    "This is the first part of the college tuition prediction project.<br>\n",
    "In this notebook, data below are collected/cleaned, then saves as csv\n",
    "<br>\n",
    "<li>Forbes \"America's Top Colleges List\"</li>\n",
    "<li>Cost of College List from the Stephen Phillips Memorial Scholarship Fund</li>\n",
    "<li>College Data from kaggle</li>\n",
    "<li>GLOBAL 2000 LIST BY THE CENTER FOR WORLD UNIVERSITY RANKINGS (2021-2022 edition) from Center for World University Rankings</li>"
   ]
  },
  {
   "cell_type": "code",
   "execution_count": 2,
   "metadata": {},
   "outputs": [
    {
     "name": "stderr",
     "output_type": "stream",
     "text": [
      "/Users/mihohunter/opt/anaconda3/lib/python3.8/site-packages/requests/__init__.py:89: RequestsDependencyWarning: urllib3 (1.25.11) or chardet (4.0.0) doesn't match a supported version!\n",
      "  warnings.warn(\"urllib3 ({}) or chardet ({}) doesn't match a supported \"\n"
     ]
    }
   ],
   "source": [
    "from selenium import webdriver\n",
    "from selenium.webdriver.common.by import By\n",
    "from webdriver_manager.chrome import ChromeDriverManager\n",
    "import pandas as pd\n",
    "from selenium.webdriver.common.keys import Keys\n",
    "from selenium.webdriver.support.ui import WebDriverWait\n",
    "from selenium.webdriver.support import expected_conditions as EC\n",
    "import time"
   ]
  },
  {
   "cell_type": "code",
   "execution_count": 270,
   "metadata": {},
   "outputs": [
    {
     "name": "stderr",
     "output_type": "stream",
     "text": [
      "\n",
      "\n",
      "====== WebDriver manager ======\n",
      "Current google-chrome version is 100.0.4896\n",
      "Get LATEST chromedriver version for 100.0.4896 google-chrome\n",
      "Driver [/Users/mihohunter/.wdm/drivers/chromedriver/mac64/100.0.4896.60/chromedriver] found in cache\n",
      "<ipython-input-270-9602d761f70c>:2: DeprecationWarning: executable_path has been deprecated, please pass in a Service object\n",
      "  driver = webdriver.Chrome(ChromeDriverManager().install())\n"
     ]
    }
   ],
   "source": [
    "# Scraping data from Forbes \"America's Top Colleges List\"\n",
    "\n",
    "url = 'https://www.forbes.com/top-colleges/'\n",
    "driver = webdriver.Chrome(ChromeDriverManager().install())\n",
    "driver.get(url)"
   ]
  },
  {
   "cell_type": "code",
   "execution_count": 271,
   "metadata": {
    "scrolled": false
   },
   "outputs": [],
   "source": [
    "school_list=[]\n",
    "\n",
    "for i in [1, 2, 3, 4]:\n",
    "    schools = driver.find_elements(By.CLASS_NAME, 'table__row ')\n",
    "\n",
    "    for school in schools:\n",
    "        rank = school.find_element(By.CLASS_NAME,'rank').text\n",
    "        name = school.find_element(By.CLASS_NAME,'organizationName').text\n",
    "        state = school.find_element(By.CLASS_NAME,'state').text\n",
    "    #     type_ = school.find_element(By.XPATH, './/*[@id=\"gatsby-focus-wrapper\"]/div/div/div[3]/div[2]/div[2]/div[2]/div[1]/div[2]/div[4]').text\n",
    "    #     type_ = school.find_element(By.CLASS_NAME,'academics.type').text\n",
    "        grant = school.find_element(By.CLASS_NAME,'grant-aid').text\n",
    "        debt = school.find_element(By.CLASS_NAME,'debt').text\n",
    "        salary = school.find_element(By.CLASS_NAME,'medianBaseSalary').text\n",
    "        school_item = {\n",
    "            'rank': rank,\n",
    "            'name': name,\n",
    "            'state': state,\n",
    "    #         'type_':type_,\n",
    "            'grant': grant,\n",
    "            'debt': debt,\n",
    "            'salary': salary,\n",
    "        }\n",
    "\n",
    "        school_list.append(school_item)\n",
    "\n",
    "    # link = driver.find_element(By.CLASS_NAME,'next-page')\n",
    "    # link.click()\n",
    "\n",
    "    try:\n",
    "        element = WebDriverWait(driver, 10).until(EC.presence_of_element_located((By.CLASS_NAME, 'next-page')))\n",
    "        element.click()\n",
    "    except:\n",
    "        driver.quit()\n",
    "\n",
    "df = pd.DataFrame(school_list)    \n",
    "\n",
    "\n",
    "# <div class=\"academics.type\" role=\"cell\" style=\"box-sizing: border-box; flex: 150 0 auto; min-width: 0px; width: 150px;\">Public</div>\n",
    "# //*[@id=\"gatsby-focus-wrapper\"]/div/div/div[3]/div[2]/div[2]/div[2]/div[1]/div[2]/div[4]\n"
   ]
  },
  {
   "cell_type": "code",
   "execution_count": 272,
   "metadata": {},
   "outputs": [
    {
     "data": {
      "text/html": [
       "<div>\n",
       "<style scoped>\n",
       "    .dataframe tbody tr th:only-of-type {\n",
       "        vertical-align: middle;\n",
       "    }\n",
       "\n",
       "    .dataframe tbody tr th {\n",
       "        vertical-align: top;\n",
       "    }\n",
       "\n",
       "    .dataframe thead th {\n",
       "        text-align: right;\n",
       "    }\n",
       "</style>\n",
       "<table border=\"1\" class=\"dataframe\">\n",
       "  <thead>\n",
       "    <tr style=\"text-align: right;\">\n",
       "      <th></th>\n",
       "      <th>rank</th>\n",
       "      <th>name</th>\n",
       "      <th>state</th>\n",
       "      <th>grant</th>\n",
       "      <th>debt</th>\n",
       "      <th>salary</th>\n",
       "    </tr>\n",
       "  </thead>\n",
       "  <tbody>\n",
       "    <tr>\n",
       "      <th>0</th>\n",
       "      <td>1.</td>\n",
       "      <td>University of California, Berkeley</td>\n",
       "      <td>CA</td>\n",
       "      <td>$19,126</td>\n",
       "      <td>$6,000</td>\n",
       "      <td>$138,800</td>\n",
       "    </tr>\n",
       "    <tr>\n",
       "      <th>1</th>\n",
       "      <td>2.</td>\n",
       "      <td>Yale University</td>\n",
       "      <td>CT</td>\n",
       "      <td>$55,827</td>\n",
       "      <td>$5,056</td>\n",
       "      <td>$141,300</td>\n",
       "    </tr>\n",
       "    <tr>\n",
       "      <th>2</th>\n",
       "      <td>3.</td>\n",
       "      <td>Princeton University</td>\n",
       "      <td>NJ</td>\n",
       "      <td>$52,188</td>\n",
       "      <td>$3,888</td>\n",
       "      <td>$150,500</td>\n",
       "    </tr>\n",
       "    <tr>\n",
       "      <th>3</th>\n",
       "      <td>4.</td>\n",
       "      <td>Stanford University</td>\n",
       "      <td>CA</td>\n",
       "      <td>$54,808</td>\n",
       "      <td>$8,205</td>\n",
       "      <td>$147,100</td>\n",
       "    </tr>\n",
       "    <tr>\n",
       "      <th>4</th>\n",
       "      <td>5.</td>\n",
       "      <td>Columbia University</td>\n",
       "      <td>NY</td>\n",
       "      <td>$55,071</td>\n",
       "      <td>$10,493</td>\n",
       "      <td>$132,100</td>\n",
       "    </tr>\n",
       "  </tbody>\n",
       "</table>\n",
       "</div>"
      ],
      "text/plain": [
       "  rank                                name state    grant     debt    salary\n",
       "0   1.  University of California, Berkeley    CA  $19,126   $6,000  $138,800\n",
       "1   2.                     Yale University    CT  $55,827   $5,056  $141,300\n",
       "2   3.                Princeton University    NJ  $52,188   $3,888  $150,500\n",
       "3   4.                 Stanford University    CA  $54,808   $8,205  $147,100\n",
       "4   5.                 Columbia University    NY  $55,071  $10,493  $132,100"
      ]
     },
     "execution_count": 272,
     "metadata": {},
     "output_type": "execute_result"
    }
   ],
   "source": [
    "df.head()"
   ]
  },
  {
   "cell_type": "code",
   "execution_count": 249,
   "metadata": {},
   "outputs": [
    {
     "data": {
      "text/html": [
       "<div>\n",
       "<style scoped>\n",
       "    .dataframe tbody tr th:only-of-type {\n",
       "        vertical-align: middle;\n",
       "    }\n",
       "\n",
       "    .dataframe tbody tr th {\n",
       "        vertical-align: top;\n",
       "    }\n",
       "\n",
       "    .dataframe thead th {\n",
       "        text-align: right;\n",
       "    }\n",
       "</style>\n",
       "<table border=\"1\" class=\"dataframe\">\n",
       "  <thead>\n",
       "    <tr style=\"text-align: right;\">\n",
       "      <th></th>\n",
       "      <th>rank</th>\n",
       "      <th>name</th>\n",
       "      <th>state</th>\n",
       "      <th>grant</th>\n",
       "      <th>debt</th>\n",
       "      <th>salary</th>\n",
       "    </tr>\n",
       "  </thead>\n",
       "  <tbody>\n",
       "    <tr>\n",
       "      <th>595</th>\n",
       "      <td>596.</td>\n",
       "      <td>Whitworth University</td>\n",
       "      <td>WA</td>\n",
       "      <td>$32,340</td>\n",
       "      <td>$7,191</td>\n",
       "      <td>$89,100</td>\n",
       "    </tr>\n",
       "    <tr>\n",
       "      <th>596</th>\n",
       "      <td>597.</td>\n",
       "      <td>Augustana University</td>\n",
       "      <td>SD</td>\n",
       "      <td>$22,281</td>\n",
       "      <td>$10,241</td>\n",
       "      <td>$91,900</td>\n",
       "    </tr>\n",
       "    <tr>\n",
       "      <th>597</th>\n",
       "      <td>598.</td>\n",
       "      <td>Luther College</td>\n",
       "      <td>IA</td>\n",
       "      <td>$31,966</td>\n",
       "      <td>$8,943</td>\n",
       "      <td>$83,800</td>\n",
       "    </tr>\n",
       "    <tr>\n",
       "      <th>598</th>\n",
       "      <td>599.</td>\n",
       "      <td>Coe College</td>\n",
       "      <td>IA</td>\n",
       "      <td>$35,805</td>\n",
       "      <td>$7,843</td>\n",
       "      <td>$88,300</td>\n",
       "    </tr>\n",
       "    <tr>\n",
       "      <th>599</th>\n",
       "      <td>600.</td>\n",
       "      <td>St. Francis College</td>\n",
       "      <td>NY</td>\n",
       "      <td>$19,359</td>\n",
       "      <td>$5,853</td>\n",
       "      <td>$93,800</td>\n",
       "    </tr>\n",
       "  </tbody>\n",
       "</table>\n",
       "</div>"
      ],
      "text/plain": [
       "     rank                  name state    grant     debt   salary\n",
       "595  596.  Whitworth University    WA  $32,340   $7,191  $89,100\n",
       "596  597.  Augustana University    SD  $22,281  $10,241  $91,900\n",
       "597  598.        Luther College    IA  $31,966   $8,943  $83,800\n",
       "598  599.           Coe College    IA  $35,805   $7,843  $88,300\n",
       "599  600.   St. Francis College    NY  $19,359   $5,853  $93,800"
      ]
     },
     "execution_count": 249,
     "metadata": {},
     "output_type": "execute_result"
    }
   ],
   "source": [
    "df.tail()"
   ]
  },
  {
   "cell_type": "code",
   "execution_count": 256,
   "metadata": {},
   "outputs": [],
   "source": [
    "# saving a copy\n",
    "df_copy = df.copy()"
   ]
  },
  {
   "cell_type": "code",
   "execution_count": 330,
   "metadata": {},
   "outputs": [
    {
     "name": "stdout",
     "output_type": "stream",
     "text": [
      "<class 'pandas.core.frame.DataFrame'>\n",
      "RangeIndex: 600 entries, 0 to 599\n",
      "Data columns (total 6 columns):\n",
      " #   Column  Non-Null Count  Dtype  \n",
      "---  ------  --------------  -----  \n",
      " 0   rank    600 non-null    int64  \n",
      " 1   name    600 non-null    object \n",
      " 2   state   600 non-null    object \n",
      " 3   grant   596 non-null    float64\n",
      " 4   debt    596 non-null    float64\n",
      " 5   salary  596 non-null    float64\n",
      "dtypes: float64(3), int64(1), object(2)\n",
      "memory usage: 28.2+ KB\n"
     ]
    }
   ],
   "source": [
    "df.info()"
   ]
  },
  {
   "cell_type": "code",
   "execution_count": 233,
   "metadata": {},
   "outputs": [],
   "source": [
    "# saving as csv\n",
    "#df.to_csv(r'US_college.csv', index = False, header=True)"
   ]
  },
  {
   "cell_type": "code",
   "execution_count": 290,
   "metadata": {},
   "outputs": [
    {
     "name": "stdout",
     "output_type": "stream",
     "text": [
      "rank      object\n",
      "name      object\n",
      "state     object\n",
      "grant     object\n",
      "debt      object\n",
      "salary    object\n",
      "dtype: object\n"
     ]
    }
   ],
   "source": [
    "# steps to convert str to int or float, first remove unnecessary characters\n",
    "df['rank'] = df['rank'].str.replace('.', '')\n",
    "df['grant'] = df['grant'].str.replace(',|\\$', '')\n",
    "df['debt'] = df['debt'].str.replace(',|\\$', '')\n",
    "df['salary'] = df['salary'].str.replace(',|\\$', '')\n",
    "print(df.dtypes)"
   ]
  },
  {
   "cell_type": "code",
   "execution_count": 292,
   "metadata": {},
   "outputs": [
    {
     "name": "stdout",
     "output_type": "stream",
     "text": [
      "rank        int64\n",
      "name       object\n",
      "state      object\n",
      "grant     float64\n",
      "debt      float64\n",
      "salary    float64\n",
      "dtype: object\n"
     ]
    }
   ],
   "source": [
    "# convert to int/float\n",
    "df['rank'] = pd.to_numeric(df['rank'], errors='coerce')\n",
    "df.grant = pd.to_numeric(df.grant, errors='coerce')\n",
    "df.debt = pd.to_numeric(df.debt, errors='coerce')\n",
    "df.salary = pd.to_numeric(df.salary, errors='coerce')\n",
    "print(df.dtypes)"
   ]
  },
  {
   "cell_type": "code",
   "execution_count": 293,
   "metadata": {},
   "outputs": [
    {
     "data": {
      "text/html": [
       "<div>\n",
       "<style scoped>\n",
       "    .dataframe tbody tr th:only-of-type {\n",
       "        vertical-align: middle;\n",
       "    }\n",
       "\n",
       "    .dataframe tbody tr th {\n",
       "        vertical-align: top;\n",
       "    }\n",
       "\n",
       "    .dataframe thead th {\n",
       "        text-align: right;\n",
       "    }\n",
       "</style>\n",
       "<table border=\"1\" class=\"dataframe\">\n",
       "  <thead>\n",
       "    <tr style=\"text-align: right;\">\n",
       "      <th></th>\n",
       "      <th>rank</th>\n",
       "      <th>name</th>\n",
       "      <th>state</th>\n",
       "      <th>grant</th>\n",
       "      <th>debt</th>\n",
       "      <th>salary</th>\n",
       "    </tr>\n",
       "  </thead>\n",
       "  <tbody>\n",
       "    <tr>\n",
       "      <th>0</th>\n",
       "      <td>1</td>\n",
       "      <td>University of California, Berkeley</td>\n",
       "      <td>CA</td>\n",
       "      <td>19126.0</td>\n",
       "      <td>6000.0</td>\n",
       "      <td>138800.0</td>\n",
       "    </tr>\n",
       "    <tr>\n",
       "      <th>1</th>\n",
       "      <td>2</td>\n",
       "      <td>Yale University</td>\n",
       "      <td>CT</td>\n",
       "      <td>55827.0</td>\n",
       "      <td>5056.0</td>\n",
       "      <td>141300.0</td>\n",
       "    </tr>\n",
       "    <tr>\n",
       "      <th>2</th>\n",
       "      <td>3</td>\n",
       "      <td>Princeton University</td>\n",
       "      <td>NJ</td>\n",
       "      <td>52188.0</td>\n",
       "      <td>3888.0</td>\n",
       "      <td>150500.0</td>\n",
       "    </tr>\n",
       "    <tr>\n",
       "      <th>3</th>\n",
       "      <td>4</td>\n",
       "      <td>Stanford University</td>\n",
       "      <td>CA</td>\n",
       "      <td>54808.0</td>\n",
       "      <td>8205.0</td>\n",
       "      <td>147100.0</td>\n",
       "    </tr>\n",
       "    <tr>\n",
       "      <th>4</th>\n",
       "      <td>5</td>\n",
       "      <td>Columbia University</td>\n",
       "      <td>NY</td>\n",
       "      <td>55071.0</td>\n",
       "      <td>10493.0</td>\n",
       "      <td>132100.0</td>\n",
       "    </tr>\n",
       "  </tbody>\n",
       "</table>\n",
       "</div>"
      ],
      "text/plain": [
       "   rank                                name state    grant     debt    salary\n",
       "0     1  University of California, Berkeley    CA  19126.0   6000.0  138800.0\n",
       "1     2                     Yale University    CT  55827.0   5056.0  141300.0\n",
       "2     3                Princeton University    NJ  52188.0   3888.0  150500.0\n",
       "3     4                 Stanford University    CA  54808.0   8205.0  147100.0\n",
       "4     5                 Columbia University    NY  55071.0  10493.0  132100.0"
      ]
     },
     "execution_count": 293,
     "metadata": {},
     "output_type": "execute_result"
    }
   ],
   "source": [
    "df.head()"
   ]
  },
  {
   "cell_type": "code",
   "execution_count": 349,
   "metadata": {},
   "outputs": [],
   "source": [
    "# saving clean set as csv\n",
    "df.to_csv(r'US_college_final.csv', index = False, header=True)"
   ]
  },
  {
   "cell_type": "code",
   "execution_count": 35,
   "metadata": {},
   "outputs": [],
   "source": [
    "import matplotlib.pyplot as plt\n",
    "import seaborn as sns\n",
    "import plotly.express as px"
   ]
  },
  {
   "cell_type": "code",
   "execution_count": 294,
   "metadata": {},
   "outputs": [
    {
     "data": {
      "image/png": "[encoded data removed]",
      "text/plain": [
       "<Figure size 432x288 with 1 Axes>"
      ]
     },
     "metadata": {
      "needs_background": "light"
     },
     "output_type": "display_data"
    }
   ],
   "source": [
    "# rank vs salary - just curious if there is pattern!\n",
    "plt.scatter(df['rank'], df['salary'])\n",
    "plt.show()"
   ]
  },
  {
   "cell_type": "code",
   "execution_count": null,
   "metadata": {},
   "outputs": [],
   "source": []
  },
  {
   "cell_type": "code",
   "execution_count": 3,
   "metadata": {},
   "outputs": [
    {
     "name": "stderr",
     "output_type": "stream",
     "text": [
      "\n",
      "\n",
      "====== WebDriver manager ======\n",
      "Current google-chrome version is 100.0.4896\n",
      "Get LATEST chromedriver version for 100.0.4896 google-chrome\n",
      "Driver [/Users/mihohunter/.wdm/drivers/chromedriver/mac64/100.0.4896.60/chromedriver] found in cache\n",
      "<ipython-input-3-631039e6cb0f>:2: DeprecationWarning: executable_path has been deprecated, please pass in a Service object\n",
      "  driver = webdriver.Chrome(ChromeDriverManager().install())\n"
     ]
    }
   ],
   "source": [
    "url1 = 'https://phillips-scholarship.org/new-applicants/cost-of-college-list/'\n",
    "driver = webdriver.Chrome(ChromeDriverManager().install())\n",
    "driver.get(url1)"
   ]
  },
  {
   "cell_type": "code",
   "execution_count": 4,
   "metadata": {},
   "outputs": [],
   "source": [
    "school_list1=[]\n",
    "table_id = driver.find_element(By.XPATH, '//*[@id=\"tablepress-28\"]')\n",
    "\n",
    "for i in range(1, 55):\n",
    "\n",
    "    for row in range(1, 11):\n",
    "        rows = table_id.find_elements(By.XPATH, \"//body//tbody//tr[\" + str(row) + \"]\")\n",
    "        for row_data in rows:\n",
    "            col = row_data.find_elements(By.TAG_NAME, \"td\")\n",
    "            name = col[0].text\n",
    "            tuition = col[1].text\n",
    "            oostate = col[2].text\n",
    "            school_item = {\n",
    "            'Name': name,\n",
    "            'Tuition': tuition,\n",
    "            'Out of State': oostate,\n",
    "            }\n",
    "            school_list1.append(school_item)            \n",
    "\n",
    "    try:\n",
    "        element = WebDriverWait(driver, 10).until(EC.presence_of_element_located((By.XPATH, '//*[@id=\"tablepress-28_next\"]')))\n",
    "        element.click()\n",
    "    except:\n",
    "        driver.quit()        \n",
    "        \n",
    "        \n",
    "df_phillips = pd.DataFrame(school_list1)   "
   ]
  },
  {
   "cell_type": "code",
   "execution_count": 5,
   "metadata": {},
   "outputs": [
    {
     "name": "stdout",
     "output_type": "stream",
     "text": [
      "<class 'pandas.core.frame.DataFrame'>\n",
      "RangeIndex: 535 entries, 0 to 534\n",
      "Data columns (total 3 columns):\n",
      " #   Column        Non-Null Count  Dtype \n",
      "---  ------        --------------  ----- \n",
      " 0   Name          535 non-null    object\n",
      " 1   Tuition       535 non-null    object\n",
      " 2   Out of State  535 non-null    object\n",
      "dtypes: object(3)\n",
      "memory usage: 12.7+ KB\n"
     ]
    }
   ],
   "source": [
    "df_phillips.info()"
   ]
  },
  {
   "cell_type": "code",
   "execution_count": 6,
   "metadata": {},
   "outputs": [
    {
     "data": {
      "text/html": [
       "<div>\n",
       "<style scoped>\n",
       "    .dataframe tbody tr th:only-of-type {\n",
       "        vertical-align: middle;\n",
       "    }\n",
       "\n",
       "    .dataframe tbody tr th {\n",
       "        vertical-align: top;\n",
       "    }\n",
       "\n",
       "    .dataframe thead th {\n",
       "        text-align: right;\n",
       "    }\n",
       "</style>\n",
       "<table border=\"1\" class=\"dataframe\">\n",
       "  <thead>\n",
       "    <tr style=\"text-align: right;\">\n",
       "      <th></th>\n",
       "      <th>Name</th>\n",
       "      <th>Tuition</th>\n",
       "      <th>Out of State</th>\n",
       "    </tr>\n",
       "  </thead>\n",
       "  <tbody>\n",
       "    <tr>\n",
       "      <th>0</th>\n",
       "      <td>Adelphi University</td>\n",
       "      <td>$44,279</td>\n",
       "      <td></td>\n",
       "    </tr>\n",
       "    <tr>\n",
       "      <th>1</th>\n",
       "      <td>Agnes Scott College</td>\n",
       "      <td>$46,228</td>\n",
       "      <td></td>\n",
       "    </tr>\n",
       "    <tr>\n",
       "      <th>2</th>\n",
       "      <td>Alabama State University</td>\n",
       "      <td></td>\n",
       "      <td>$20,359</td>\n",
       "    </tr>\n",
       "    <tr>\n",
       "      <th>3</th>\n",
       "      <td>Albany College of Pharmacy</td>\n",
       "      <td>$38,964</td>\n",
       "      <td></td>\n",
       "    </tr>\n",
       "    <tr>\n",
       "      <th>4</th>\n",
       "      <td>Albertus Magnus College</td>\n",
       "      <td>$36,860</td>\n",
       "      <td></td>\n",
       "    </tr>\n",
       "  </tbody>\n",
       "</table>\n",
       "</div>"
      ],
      "text/plain": [
       "                         Name  Tuition Out of State\n",
       "0          Adelphi University  $44,279             \n",
       "1         Agnes Scott College  $46,228             \n",
       "2    Alabama State University               $20,359\n",
       "3  Albany College of Pharmacy  $38,964             \n",
       "4     Albertus Magnus College  $36,860             "
      ]
     },
     "execution_count": 6,
     "metadata": {},
     "output_type": "execute_result"
    }
   ],
   "source": [
    "df_phillips.head()"
   ]
  },
  {
   "cell_type": "code",
   "execution_count": 7,
   "metadata": {},
   "outputs": [],
   "source": [
    "# saving as csv\n",
    "df_phillips.to_csv(r'StephenPhillips_tuition.csv', index = False, header=True)"
   ]
  },
  {
   "cell_type": "code",
   "execution_count": 42,
   "metadata": {},
   "outputs": [],
   "source": [
    "df_p_rev = pd.read_csv('StephenPhillips_tuition_rev 2.csv')"
   ]
  },
  {
   "cell_type": "code",
   "execution_count": 43,
   "metadata": {},
   "outputs": [
    {
     "data": {
      "text/html": [
       "<div>\n",
       "<style scoped>\n",
       "    .dataframe tbody tr th:only-of-type {\n",
       "        vertical-align: middle;\n",
       "    }\n",
       "\n",
       "    .dataframe tbody tr th {\n",
       "        vertical-align: top;\n",
       "    }\n",
       "\n",
       "    .dataframe thead th {\n",
       "        text-align: right;\n",
       "    }\n",
       "</style>\n",
       "<table border=\"1\" class=\"dataframe\">\n",
       "  <thead>\n",
       "    <tr style=\"text-align: right;\">\n",
       "      <th></th>\n",
       "      <th>Name</th>\n",
       "      <th>Tuition</th>\n",
       "      <th>Out of State</th>\n",
       "      <th>In_State</th>\n",
       "      <th>Is_Private</th>\n",
       "    </tr>\n",
       "  </thead>\n",
       "  <tbody>\n",
       "    <tr>\n",
       "      <th>0</th>\n",
       "      <td>Adelphi University</td>\n",
       "      <td>$44,279.00</td>\n",
       "      <td>NaN</td>\n",
       "      <td>NaN</td>\n",
       "      <td>1</td>\n",
       "    </tr>\n",
       "    <tr>\n",
       "      <th>1</th>\n",
       "      <td>Agnes Scott College</td>\n",
       "      <td>$46,228.00</td>\n",
       "      <td>NaN</td>\n",
       "      <td>NaN</td>\n",
       "      <td>1</td>\n",
       "    </tr>\n",
       "    <tr>\n",
       "      <th>2</th>\n",
       "      <td>Alabama State University</td>\n",
       "      <td>$20,359.00</td>\n",
       "      <td>$20,359.00</td>\n",
       "      <td>NaN</td>\n",
       "      <td>0</td>\n",
       "    </tr>\n",
       "    <tr>\n",
       "      <th>3</th>\n",
       "      <td>Albany College of Pharmacy</td>\n",
       "      <td>$38,964.00</td>\n",
       "      <td>NaN</td>\n",
       "      <td>NaN</td>\n",
       "      <td>1</td>\n",
       "    </tr>\n",
       "    <tr>\n",
       "      <th>4</th>\n",
       "      <td>Albertus Magnus College</td>\n",
       "      <td>$36,860.00</td>\n",
       "      <td>NaN</td>\n",
       "      <td>NaN</td>\n",
       "      <td>1</td>\n",
       "    </tr>\n",
       "  </tbody>\n",
       "</table>\n",
       "</div>"
      ],
      "text/plain": [
       "                         Name     Tuition Out of State In_State  Is_Private\n",
       "0          Adelphi University  $44,279.00          NaN      NaN           1\n",
       "1         Agnes Scott College  $46,228.00          NaN      NaN           1\n",
       "2    Alabama State University  $20,359.00   $20,359.00      NaN           0\n",
       "3  Albany College of Pharmacy  $38,964.00          NaN      NaN           1\n",
       "4     Albertus Magnus College  $36,860.00          NaN      NaN           1"
      ]
     },
     "execution_count": 43,
     "metadata": {},
     "output_type": "execute_result"
    }
   ],
   "source": [
    "df_p_rev.head()"
   ]
  },
  {
   "cell_type": "code",
   "execution_count": 44,
   "metadata": {},
   "outputs": [],
   "source": [
    "df_p_rev['Tuition'] = df_p_rev['Tuition'].str.replace(',|\\$', '')\n",
    "df_p_rev['Out of State'] = df_p_rev['Out of State'].str.replace(',|\\$', '')\n",
    "df_p_rev['In_State'] = df_p_rev['In_State'].str.replace(',|\\$', '')"
   ]
  },
  {
   "cell_type": "code",
   "execution_count": 45,
   "metadata": {},
   "outputs": [],
   "source": [
    "df_p_rev['Tuition'] = pd.to_numeric(df_p_rev['Tuition'], errors='coerce')\n",
    "df_p_rev['Out of State'] = pd.to_numeric(df_p_rev['Out of State'], errors='coerce')\n",
    "df_p_rev['In_State'] = pd.to_numeric(df_p_rev['In_State'], errors='coerce')"
   ]
  },
  {
   "cell_type": "code",
   "execution_count": 46,
   "metadata": {},
   "outputs": [
    {
     "name": "stdout",
     "output_type": "stream",
     "text": [
      "<class 'pandas.core.frame.DataFrame'>\n",
      "RangeIndex: 535 entries, 0 to 534\n",
      "Data columns (total 5 columns):\n",
      " #   Column        Non-Null Count  Dtype  \n",
      "---  ------        --------------  -----  \n",
      " 0   Name          535 non-null    object \n",
      " 1   Tuition       535 non-null    float64\n",
      " 2   Out of State  145 non-null    float64\n",
      " 3   In_State      39 non-null     float64\n",
      " 4   Is_Private    535 non-null    int64  \n",
      "dtypes: float64(3), int64(1), object(1)\n",
      "memory usage: 21.0+ KB\n"
     ]
    }
   ],
   "source": [
    "df_p_rev.info()"
   ]
  },
  {
   "cell_type": "code",
   "execution_count": 21,
   "metadata": {},
   "outputs": [],
   "source": [
    "df_college = pd.read_csv('US_college_final.csv')"
   ]
  },
  {
   "cell_type": "code",
   "execution_count": 22,
   "metadata": {},
   "outputs": [
    {
     "data": {
      "text/html": [
       "<div>\n",
       "<style scoped>\n",
       "    .dataframe tbody tr th:only-of-type {\n",
       "        vertical-align: middle;\n",
       "    }\n",
       "\n",
       "    .dataframe tbody tr th {\n",
       "        vertical-align: top;\n",
       "    }\n",
       "\n",
       "    .dataframe thead th {\n",
       "        text-align: right;\n",
       "    }\n",
       "</style>\n",
       "<table border=\"1\" class=\"dataframe\">\n",
       "  <thead>\n",
       "    <tr style=\"text-align: right;\">\n",
       "      <th></th>\n",
       "      <th>rank</th>\n",
       "      <th>name</th>\n",
       "      <th>state</th>\n",
       "      <th>grant</th>\n",
       "      <th>debt</th>\n",
       "      <th>salary</th>\n",
       "    </tr>\n",
       "  </thead>\n",
       "  <tbody>\n",
       "    <tr>\n",
       "      <th>0</th>\n",
       "      <td>1</td>\n",
       "      <td>University of California, Berkeley</td>\n",
       "      <td>CA</td>\n",
       "      <td>19126.0</td>\n",
       "      <td>6000.0</td>\n",
       "      <td>138800.0</td>\n",
       "    </tr>\n",
       "    <tr>\n",
       "      <th>1</th>\n",
       "      <td>2</td>\n",
       "      <td>Yale University</td>\n",
       "      <td>CT</td>\n",
       "      <td>55827.0</td>\n",
       "      <td>5056.0</td>\n",
       "      <td>141300.0</td>\n",
       "    </tr>\n",
       "    <tr>\n",
       "      <th>2</th>\n",
       "      <td>3</td>\n",
       "      <td>Princeton University</td>\n",
       "      <td>NJ</td>\n",
       "      <td>52188.0</td>\n",
       "      <td>3888.0</td>\n",
       "      <td>150500.0</td>\n",
       "    </tr>\n",
       "    <tr>\n",
       "      <th>3</th>\n",
       "      <td>4</td>\n",
       "      <td>Stanford University</td>\n",
       "      <td>CA</td>\n",
       "      <td>54808.0</td>\n",
       "      <td>8205.0</td>\n",
       "      <td>147100.0</td>\n",
       "    </tr>\n",
       "    <tr>\n",
       "      <th>4</th>\n",
       "      <td>5</td>\n",
       "      <td>Columbia University</td>\n",
       "      <td>NY</td>\n",
       "      <td>55071.0</td>\n",
       "      <td>10493.0</td>\n",
       "      <td>132100.0</td>\n",
       "    </tr>\n",
       "  </tbody>\n",
       "</table>\n",
       "</div>"
      ],
      "text/plain": [
       "   rank                                name state    grant     debt    salary\n",
       "0     1  University of California, Berkeley    CA  19126.0   6000.0  138800.0\n",
       "1     2                     Yale University    CT  55827.0   5056.0  141300.0\n",
       "2     3                Princeton University    NJ  52188.0   3888.0  150500.0\n",
       "3     4                 Stanford University    CA  54808.0   8205.0  147100.0\n",
       "4     5                 Columbia University    NY  55071.0  10493.0  132100.0"
      ]
     },
     "execution_count": 22,
     "metadata": {},
     "output_type": "execute_result"
    }
   ],
   "source": [
    "df_college.head()"
   ]
  },
  {
   "cell_type": "code",
   "execution_count": 26,
   "metadata": {},
   "outputs": [
    {
     "name": "stderr",
     "output_type": "stream",
     "text": [
      "/Users/mihohunter/opt/anaconda3/lib/python3.8/site-packages/fuzzywuzzy/fuzz.py:11: UserWarning: Using slow pure-python SequenceMatcher. Install python-Levenshtein to remove this warning\n",
      "  warnings.warn('Using slow pure-python SequenceMatcher. Install python-Levenshtein to remove this warning')\n"
     ]
    }
   ],
   "source": [
    "from fuzzywuzzy import fuzz\n",
    "from fuzzywuzzy import process"
   ]
  },
  {
   "cell_type": "code",
   "execution_count": 47,
   "metadata": {},
   "outputs": [],
   "source": [
    "# want to merge on \"Name\" in df_p_rev and \"name\" in df_college\n",
    "choices = df_p_rev['Name'].tolist()\n",
    "\n",
    "def fm(row):\n",
    "    matches = process.extract(row['name'], choices, limit = 2)\n",
    "    exactMatchBool = matches[0][1] == 100\n",
    "    row['Match1'] = matches[0][0]\n",
    "    row['Match 1 Score'] = matches[0][1]\n",
    "    row['Match2'] = '' if exactMatchBool else matches [1][0]\n",
    "    row['Match 2 score'] = '' if exactMatchBool else matches [1][1]\n",
    "    return row\n",
    "\n",
    "df_college_matched = df_college.apply(fm, axis = 1)"
   ]
  },
  {
   "cell_type": "code",
   "execution_count": 48,
   "metadata": {},
   "outputs": [
    {
     "data": {
      "text/html": [
       "<div>\n",
       "<style scoped>\n",
       "    .dataframe tbody tr th:only-of-type {\n",
       "        vertical-align: middle;\n",
       "    }\n",
       "\n",
       "    .dataframe tbody tr th {\n",
       "        vertical-align: top;\n",
       "    }\n",
       "\n",
       "    .dataframe thead th {\n",
       "        text-align: right;\n",
       "    }\n",
       "</style>\n",
       "<table border=\"1\" class=\"dataframe\">\n",
       "  <thead>\n",
       "    <tr style=\"text-align: right;\">\n",
       "      <th></th>\n",
       "      <th>rank</th>\n",
       "      <th>name</th>\n",
       "      <th>state</th>\n",
       "      <th>grant</th>\n",
       "      <th>debt</th>\n",
       "      <th>salary</th>\n",
       "      <th>Match1</th>\n",
       "      <th>Match 1 Score</th>\n",
       "      <th>Match2</th>\n",
       "      <th>Match 2 score</th>\n",
       "    </tr>\n",
       "  </thead>\n",
       "  <tbody>\n",
       "    <tr>\n",
       "      <th>0</th>\n",
       "      <td>1</td>\n",
       "      <td>University of California, Berkeley</td>\n",
       "      <td>CA</td>\n",
       "      <td>19126.0</td>\n",
       "      <td>6000.0</td>\n",
       "      <td>138800.0</td>\n",
       "      <td>Adelphi University</td>\n",
       "      <td>86</td>\n",
       "      <td>Alfred University</td>\n",
       "      <td>86</td>\n",
       "    </tr>\n",
       "    <tr>\n",
       "      <th>1</th>\n",
       "      <td>2</td>\n",
       "      <td>Yale University</td>\n",
       "      <td>CT</td>\n",
       "      <td>55827.0</td>\n",
       "      <td>5056.0</td>\n",
       "      <td>141300.0</td>\n",
       "      <td>Yale University</td>\n",
       "      <td>100</td>\n",
       "      <td></td>\n",
       "      <td></td>\n",
       "    </tr>\n",
       "    <tr>\n",
       "      <th>2</th>\n",
       "      <td>3</td>\n",
       "      <td>Princeton University</td>\n",
       "      <td>NJ</td>\n",
       "      <td>52188.0</td>\n",
       "      <td>3888.0</td>\n",
       "      <td>150500.0</td>\n",
       "      <td>Princeton University</td>\n",
       "      <td>100</td>\n",
       "      <td></td>\n",
       "      <td></td>\n",
       "    </tr>\n",
       "    <tr>\n",
       "      <th>3</th>\n",
       "      <td>4</td>\n",
       "      <td>Stanford University</td>\n",
       "      <td>CA</td>\n",
       "      <td>54808.0</td>\n",
       "      <td>8205.0</td>\n",
       "      <td>147100.0</td>\n",
       "      <td>Stanford University</td>\n",
       "      <td>100</td>\n",
       "      <td></td>\n",
       "      <td></td>\n",
       "    </tr>\n",
       "    <tr>\n",
       "      <th>4</th>\n",
       "      <td>5</td>\n",
       "      <td>Columbia University</td>\n",
       "      <td>NY</td>\n",
       "      <td>55071.0</td>\n",
       "      <td>10493.0</td>\n",
       "      <td>132100.0</td>\n",
       "      <td>Columbia University</td>\n",
       "      <td>100</td>\n",
       "      <td></td>\n",
       "      <td></td>\n",
       "    </tr>\n",
       "  </tbody>\n",
       "</table>\n",
       "</div>"
      ],
      "text/plain": [
       "   rank                                name state    grant     debt    salary  \\\n",
       "0     1  University of California, Berkeley    CA  19126.0   6000.0  138800.0   \n",
       "1     2                     Yale University    CT  55827.0   5056.0  141300.0   \n",
       "2     3                Princeton University    NJ  52188.0   3888.0  150500.0   \n",
       "3     4                 Stanford University    CA  54808.0   8205.0  147100.0   \n",
       "4     5                 Columbia University    NY  55071.0  10493.0  132100.0   \n",
       "\n",
       "                 Match1  Match 1 Score             Match2 Match 2 score  \n",
       "0    Adelphi University             86  Alfred University            86  \n",
       "1       Yale University            100                                   \n",
       "2  Princeton University            100                                   \n",
       "3   Stanford University            100                                   \n",
       "4   Columbia University            100                                   "
      ]
     },
     "execution_count": 48,
     "metadata": {},
     "output_type": "execute_result"
    }
   ],
   "source": [
    "df_college_matched.head()"
   ]
  },
  {
   "cell_type": "code",
   "execution_count": 29,
   "metadata": {},
   "outputs": [],
   "source": [
    "# saving data\n",
    "df_college_matched.to_csv(r'us_college_matched.csv', index = False, header=True)"
   ]
  },
  {
   "cell_type": "code",
   "execution_count": 30,
   "metadata": {},
   "outputs": [],
   "source": [
    "# manually corrected unmatched names\n",
    "df_college_final = pd.read_csv('US_college_matched_rev.csv')"
   ]
  },
  {
   "cell_type": "code",
   "execution_count": 49,
   "metadata": {},
   "outputs": [
    {
     "data": {
      "text/plain": [
       "Index(['Name', 'Tuition', 'Out of State', 'In_State', 'Is_Private', 'rank',\n",
       "       'name', 'state', 'grant', 'debt', 'salary', 'Match1', 'Match 1 Score'],\n",
       "      dtype='object')"
      ]
     },
     "execution_count": 49,
     "metadata": {},
     "output_type": "execute_result"
    }
   ],
   "source": [
    "merged = df_p_rev.merge(df_college_final, how='left', left_on = 'Name', right_on = 'name')\n",
    "merged.columns"
   ]
  },
  {
   "cell_type": "code",
   "execution_count": 54,
   "metadata": {},
   "outputs": [],
   "source": [
    "# \"Cost of College List\" merged with Forbe's \"America's Top Colleges List\"\n",
    "# Saving as csv\n",
    "\n",
    "merged.to_csv(r'us_college_merged.csv', index = False, header=True)"
   ]
  },
  {
   "cell_type": "code",
   "execution_count": 50,
   "metadata": {},
   "outputs": [
    {
     "name": "stdout",
     "output_type": "stream",
     "text": [
      "<class 'pandas.core.frame.DataFrame'>\n",
      "Int64Index: 535 entries, 0 to 534\n",
      "Data columns (total 13 columns):\n",
      " #   Column         Non-Null Count  Dtype  \n",
      "---  ------         --------------  -----  \n",
      " 0   Name           535 non-null    object \n",
      " 1   Tuition        535 non-null    float64\n",
      " 2   Out of State   145 non-null    float64\n",
      " 3   In_State       39 non-null     float64\n",
      " 4   Is_Private     535 non-null    int64  \n",
      " 5   rank           259 non-null    float64\n",
      " 6   name           259 non-null    object \n",
      " 7   state          259 non-null    object \n",
      " 8   grant          259 non-null    float64\n",
      " 9   debt           259 non-null    float64\n",
      " 10  salary         258 non-null    float64\n",
      " 11  Match1         259 non-null    object \n",
      " 12  Match 1 Score  259 non-null    float64\n",
      "dtypes: float64(8), int64(1), object(4)\n",
      "memory usage: 58.5+ KB\n"
     ]
    }
   ],
   "source": [
    "merged.info()"
   ]
  },
  {
   "cell_type": "code",
   "execution_count": 51,
   "metadata": {},
   "outputs": [
    {
     "data": {
      "text/html": [
       "<div>\n",
       "<style scoped>\n",
       "    .dataframe tbody tr th:only-of-type {\n",
       "        vertical-align: middle;\n",
       "    }\n",
       "\n",
       "    .dataframe tbody tr th {\n",
       "        vertical-align: top;\n",
       "    }\n",
       "\n",
       "    .dataframe thead th {\n",
       "        text-align: right;\n",
       "    }\n",
       "</style>\n",
       "<table border=\"1\" class=\"dataframe\">\n",
       "  <thead>\n",
       "    <tr style=\"text-align: right;\">\n",
       "      <th></th>\n",
       "      <th>Name</th>\n",
       "      <th>Tuition</th>\n",
       "      <th>Out of State</th>\n",
       "      <th>In_State</th>\n",
       "      <th>Is_Private</th>\n",
       "      <th>rank</th>\n",
       "      <th>name</th>\n",
       "      <th>state</th>\n",
       "      <th>grant</th>\n",
       "      <th>debt</th>\n",
       "      <th>salary</th>\n",
       "      <th>Match1</th>\n",
       "      <th>Match 1 Score</th>\n",
       "    </tr>\n",
       "  </thead>\n",
       "  <tbody>\n",
       "    <tr>\n",
       "      <th>0</th>\n",
       "      <td>Adelphi University</td>\n",
       "      <td>44279.0</td>\n",
       "      <td>NaN</td>\n",
       "      <td>NaN</td>\n",
       "      <td>1</td>\n",
       "      <td>249.0</td>\n",
       "      <td>Adelphi University</td>\n",
       "      <td>NY</td>\n",
       "      <td>22447.0</td>\n",
       "      <td>8445.0</td>\n",
       "      <td>94800.0</td>\n",
       "      <td>Adelphi University</td>\n",
       "      <td>100.0</td>\n",
       "    </tr>\n",
       "    <tr>\n",
       "      <th>1</th>\n",
       "      <td>Agnes Scott College</td>\n",
       "      <td>46228.0</td>\n",
       "      <td>NaN</td>\n",
       "      <td>NaN</td>\n",
       "      <td>1</td>\n",
       "      <td>427.0</td>\n",
       "      <td>Agnes Scott College</td>\n",
       "      <td>GA</td>\n",
       "      <td>32400.0</td>\n",
       "      <td>8977.0</td>\n",
       "      <td>84900.0</td>\n",
       "      <td>Agnes Scott College</td>\n",
       "      <td>100.0</td>\n",
       "    </tr>\n",
       "    <tr>\n",
       "      <th>2</th>\n",
       "      <td>Alabama State University</td>\n",
       "      <td>20359.0</td>\n",
       "      <td>20359.0</td>\n",
       "      <td>NaN</td>\n",
       "      <td>0</td>\n",
       "      <td>NaN</td>\n",
       "      <td>NaN</td>\n",
       "      <td>NaN</td>\n",
       "      <td>NaN</td>\n",
       "      <td>NaN</td>\n",
       "      <td>NaN</td>\n",
       "      <td>NaN</td>\n",
       "      <td>NaN</td>\n",
       "    </tr>\n",
       "    <tr>\n",
       "      <th>3</th>\n",
       "      <td>Albany College of Pharmacy</td>\n",
       "      <td>38964.0</td>\n",
       "      <td>NaN</td>\n",
       "      <td>NaN</td>\n",
       "      <td>1</td>\n",
       "      <td>NaN</td>\n",
       "      <td>NaN</td>\n",
       "      <td>NaN</td>\n",
       "      <td>NaN</td>\n",
       "      <td>NaN</td>\n",
       "      <td>NaN</td>\n",
       "      <td>NaN</td>\n",
       "      <td>NaN</td>\n",
       "    </tr>\n",
       "    <tr>\n",
       "      <th>4</th>\n",
       "      <td>Albertus Magnus College</td>\n",
       "      <td>36860.0</td>\n",
       "      <td>NaN</td>\n",
       "      <td>NaN</td>\n",
       "      <td>1</td>\n",
       "      <td>NaN</td>\n",
       "      <td>NaN</td>\n",
       "      <td>NaN</td>\n",
       "      <td>NaN</td>\n",
       "      <td>NaN</td>\n",
       "      <td>NaN</td>\n",
       "      <td>NaN</td>\n",
       "      <td>NaN</td>\n",
       "    </tr>\n",
       "  </tbody>\n",
       "</table>\n",
       "</div>"
      ],
      "text/plain": [
       "                         Name  Tuition  Out of State  In_State  Is_Private  \\\n",
       "0          Adelphi University  44279.0           NaN       NaN           1   \n",
       "1         Agnes Scott College  46228.0           NaN       NaN           1   \n",
       "2    Alabama State University  20359.0       20359.0       NaN           0   \n",
       "3  Albany College of Pharmacy  38964.0           NaN       NaN           1   \n",
       "4     Albertus Magnus College  36860.0           NaN       NaN           1   \n",
       "\n",
       "    rank                 name state    grant    debt   salary  \\\n",
       "0  249.0   Adelphi University    NY  22447.0  8445.0  94800.0   \n",
       "1  427.0  Agnes Scott College    GA  32400.0  8977.0  84900.0   \n",
       "2    NaN                  NaN   NaN      NaN     NaN      NaN   \n",
       "3    NaN                  NaN   NaN      NaN     NaN      NaN   \n",
       "4    NaN                  NaN   NaN      NaN     NaN      NaN   \n",
       "\n",
       "                Match1  Match 1 Score  \n",
       "0   Adelphi University          100.0  \n",
       "1  Agnes Scott College          100.0  \n",
       "2                  NaN            NaN  \n",
       "3                  NaN            NaN  \n",
       "4                  NaN            NaN  "
      ]
     },
     "execution_count": 51,
     "metadata": {},
     "output_type": "execute_result"
    }
   ],
   "source": [
    "merged.head()"
   ]
  },
  {
   "cell_type": "code",
   "execution_count": 52,
   "metadata": {},
   "outputs": [
    {
     "data": {
      "image/png": "[encoded data removed]",
      "text/plain": [
       "<Figure size 432x288 with 1 Axes>"
      ]
     },
     "metadata": {
      "needs_background": "light"
     },
     "output_type": "display_data"
    }
   ],
   "source": [
    "# tuition vs salary \n",
    "plt.scatter(merged['Tuition'], merged['salary'])\n",
    "plt.show()"
   ]
  },
  {
   "cell_type": "code",
   "execution_count": 53,
   "metadata": {},
   "outputs": [
    {
     "data": {
      "image/png": "[encoded data removed]",
      "text/plain": [
       "<Figure size 432x288 with 1 Axes>"
      ]
     },
     "metadata": {
      "needs_background": "light"
     },
     "output_type": "display_data"
    }
   ],
   "source": [
    "plt.scatter(merged['Tuition'], merged['rank'])\n",
    "plt.show()"
   ]
  },
  {
   "cell_type": "code",
   "execution_count": null,
   "metadata": {},
   "outputs": [],
   "source": []
  },
  {
   "cell_type": "code",
   "execution_count": null,
   "metadata": {},
   "outputs": [],
   "source": []
  },
  {
   "cell_type": "code",
   "execution_count": 310,
   "metadata": {},
   "outputs": [
    {
     "data": {
      "text/html": [
       "<div>\n",
       "<style scoped>\n",
       "    .dataframe tbody tr th:only-of-type {\n",
       "        vertical-align: middle;\n",
       "    }\n",
       "\n",
       "    .dataframe tbody tr th {\n",
       "        vertical-align: top;\n",
       "    }\n",
       "\n",
       "    .dataframe thead th {\n",
       "        text-align: right;\n",
       "    }\n",
       "</style>\n",
       "<table border=\"1\" class=\"dataframe\">\n",
       "  <thead>\n",
       "    <tr style=\"text-align: right;\">\n",
       "      <th></th>\n",
       "      <th>Unnamed: 0</th>\n",
       "      <th>Private</th>\n",
       "      <th>Apps</th>\n",
       "      <th>Accept</th>\n",
       "      <th>Enroll</th>\n",
       "      <th>Top10perc</th>\n",
       "      <th>Top25perc</th>\n",
       "      <th>F.Undergrad</th>\n",
       "      <th>P.Undergrad</th>\n",
       "      <th>Outstate</th>\n",
       "      <th>Room.Board</th>\n",
       "      <th>Books</th>\n",
       "      <th>Personal</th>\n",
       "      <th>PhD</th>\n",
       "      <th>Terminal</th>\n",
       "      <th>S.F.Ratio</th>\n",
       "      <th>perc.alumni</th>\n",
       "      <th>Expend</th>\n",
       "      <th>Grad.Rate</th>\n",
       "    </tr>\n",
       "  </thead>\n",
       "  <tbody>\n",
       "    <tr>\n",
       "      <th>0</th>\n",
       "      <td>Abilene Christian University</td>\n",
       "      <td>Yes</td>\n",
       "      <td>1660</td>\n",
       "      <td>1232</td>\n",
       "      <td>721</td>\n",
       "      <td>23</td>\n",
       "      <td>52</td>\n",
       "      <td>2885</td>\n",
       "      <td>537</td>\n",
       "      <td>7440</td>\n",
       "      <td>3300</td>\n",
       "      <td>450</td>\n",
       "      <td>2200</td>\n",
       "      <td>70</td>\n",
       "      <td>78</td>\n",
       "      <td>18.1</td>\n",
       "      <td>12</td>\n",
       "      <td>7041</td>\n",
       "      <td>60</td>\n",
       "    </tr>\n",
       "    <tr>\n",
       "      <th>1</th>\n",
       "      <td>Adelphi University</td>\n",
       "      <td>Yes</td>\n",
       "      <td>2186</td>\n",
       "      <td>1924</td>\n",
       "      <td>512</td>\n",
       "      <td>16</td>\n",
       "      <td>29</td>\n",
       "      <td>2683</td>\n",
       "      <td>1227</td>\n",
       "      <td>12280</td>\n",
       "      <td>6450</td>\n",
       "      <td>750</td>\n",
       "      <td>1500</td>\n",
       "      <td>29</td>\n",
       "      <td>30</td>\n",
       "      <td>12.2</td>\n",
       "      <td>16</td>\n",
       "      <td>10527</td>\n",
       "      <td>56</td>\n",
       "    </tr>\n",
       "    <tr>\n",
       "      <th>2</th>\n",
       "      <td>Adrian College</td>\n",
       "      <td>Yes</td>\n",
       "      <td>1428</td>\n",
       "      <td>1097</td>\n",
       "      <td>336</td>\n",
       "      <td>22</td>\n",
       "      <td>50</td>\n",
       "      <td>1036</td>\n",
       "      <td>99</td>\n",
       "      <td>11250</td>\n",
       "      <td>3750</td>\n",
       "      <td>400</td>\n",
       "      <td>1165</td>\n",
       "      <td>53</td>\n",
       "      <td>66</td>\n",
       "      <td>12.9</td>\n",
       "      <td>30</td>\n",
       "      <td>8735</td>\n",
       "      <td>54</td>\n",
       "    </tr>\n",
       "    <tr>\n",
       "      <th>3</th>\n",
       "      <td>Agnes Scott College</td>\n",
       "      <td>Yes</td>\n",
       "      <td>417</td>\n",
       "      <td>349</td>\n",
       "      <td>137</td>\n",
       "      <td>60</td>\n",
       "      <td>89</td>\n",
       "      <td>510</td>\n",
       "      <td>63</td>\n",
       "      <td>12960</td>\n",
       "      <td>5450</td>\n",
       "      <td>450</td>\n",
       "      <td>875</td>\n",
       "      <td>92</td>\n",
       "      <td>97</td>\n",
       "      <td>7.7</td>\n",
       "      <td>37</td>\n",
       "      <td>19016</td>\n",
       "      <td>59</td>\n",
       "    </tr>\n",
       "    <tr>\n",
       "      <th>4</th>\n",
       "      <td>Alaska Pacific University</td>\n",
       "      <td>Yes</td>\n",
       "      <td>193</td>\n",
       "      <td>146</td>\n",
       "      <td>55</td>\n",
       "      <td>16</td>\n",
       "      <td>44</td>\n",
       "      <td>249</td>\n",
       "      <td>869</td>\n",
       "      <td>7560</td>\n",
       "      <td>4120</td>\n",
       "      <td>800</td>\n",
       "      <td>1500</td>\n",
       "      <td>76</td>\n",
       "      <td>72</td>\n",
       "      <td>11.9</td>\n",
       "      <td>2</td>\n",
       "      <td>10922</td>\n",
       "      <td>15</td>\n",
       "    </tr>\n",
       "  </tbody>\n",
       "</table>\n",
       "</div>"
      ],
      "text/plain": [
       "                     Unnamed: 0 Private  Apps  Accept  Enroll  Top10perc  \\\n",
       "0  Abilene Christian University     Yes  1660    1232     721         23   \n",
       "1            Adelphi University     Yes  2186    1924     512         16   \n",
       "2                Adrian College     Yes  1428    1097     336         22   \n",
       "3           Agnes Scott College     Yes   417     349     137         60   \n",
       "4     Alaska Pacific University     Yes   193     146      55         16   \n",
       "\n",
       "   Top25perc  F.Undergrad  P.Undergrad  Outstate  Room.Board  Books  Personal  \\\n",
       "0         52         2885          537      7440        3300    450      2200   \n",
       "1         29         2683         1227     12280        6450    750      1500   \n",
       "2         50         1036           99     11250        3750    400      1165   \n",
       "3         89          510           63     12960        5450    450       875   \n",
       "4         44          249          869      7560        4120    800      1500   \n",
       "\n",
       "   PhD  Terminal  S.F.Ratio  perc.alumni  Expend  Grad.Rate  \n",
       "0   70        78       18.1           12    7041         60  \n",
       "1   29        30       12.2           16   10527         56  \n",
       "2   53        66       12.9           30    8735         54  \n",
       "3   92        97        7.7           37   19016         59  \n",
       "4   76        72       11.9            2   10922         15  "
      ]
     },
     "execution_count": 310,
     "metadata": {},
     "output_type": "execute_result"
    }
   ],
   "source": [
    "# importing College Data from kaggle\n",
    "college_data = pd.read_csv('College_Data.csv') #data from kaggle\n",
    "college_data.head()"
   ]
  },
  {
   "cell_type": "code",
   "execution_count": 331,
   "metadata": {},
   "outputs": [
    {
     "name": "stdout",
     "output_type": "stream",
     "text": [
      "<class 'pandas.core.frame.DataFrame'>\n",
      "RangeIndex: 777 entries, 0 to 776\n",
      "Data columns (total 19 columns):\n",
      " #   Column       Non-Null Count  Dtype  \n",
      "---  ------       --------------  -----  \n",
      " 0   Unnamed: 0   777 non-null    object \n",
      " 1   Private      777 non-null    int64  \n",
      " 2   Apps         777 non-null    int64  \n",
      " 3   Accept       777 non-null    int64  \n",
      " 4   Enroll       777 non-null    int64  \n",
      " 5   Top10perc    777 non-null    int64  \n",
      " 6   Top25perc    777 non-null    int64  \n",
      " 7   F.Undergrad  777 non-null    int64  \n",
      " 8   P.Undergrad  777 non-null    int64  \n",
      " 9   Outstate     777 non-null    int64  \n",
      " 10  Room.Board   777 non-null    int64  \n",
      " 11  Books        777 non-null    int64  \n",
      " 12  Personal     777 non-null    int64  \n",
      " 13  PhD          777 non-null    int64  \n",
      " 14  Terminal     777 non-null    int64  \n",
      " 15  S.F.Ratio    777 non-null    float64\n",
      " 16  perc.alumni  777 non-null    int64  \n",
      " 17  Expend       777 non-null    int64  \n",
      " 18  Grad.Rate    777 non-null    int64  \n",
      "dtypes: float64(1), int64(17), object(1)\n",
      "memory usage: 115.5+ KB\n"
     ]
    }
   ],
   "source": [
    "college_data.info()"
   ]
  },
  {
   "cell_type": "code",
   "execution_count": 311,
   "metadata": {
    "scrolled": false
   },
   "outputs": [
    {
     "data": {
      "text/plain": [
       "Unnamed: 0      object\n",
       "Private         object\n",
       "Apps             int64\n",
       "Accept           int64\n",
       "Enroll           int64\n",
       "Top10perc        int64\n",
       "Top25perc        int64\n",
       "F.Undergrad      int64\n",
       "P.Undergrad      int64\n",
       "Outstate         int64\n",
       "Room.Board       int64\n",
       "Books            int64\n",
       "Personal         int64\n",
       "PhD              int64\n",
       "Terminal         int64\n",
       "S.F.Ratio      float64\n",
       "perc.alumni      int64\n",
       "Expend           int64\n",
       "Grad.Rate        int64\n",
       "dtype: object"
      ]
     },
     "execution_count": 311,
     "metadata": {},
     "output_type": "execute_result"
    }
   ],
   "source": [
    "college_data.dtypes"
   ]
  },
  {
   "cell_type": "code",
   "execution_count": 328,
   "metadata": {},
   "outputs": [],
   "source": [
    "# Private : Public/private indicator\n",
    "# Apps : Number of applications received\n",
    "# Accept : Number of applicants accepted\n",
    "# Enroll : Number of new students enrolled\n",
    "# Top10perc : New students from top 10% of high school class\n",
    "# Top25perc : New students from top 25% of high school class\n",
    "# F.Undergrad : Number of full-time undergraduates\n",
    "# P.Undergrad : Number of part-time undergraduates\n",
    "# Outstate : Out-of-state tuition\n",
    "# Room.Board : Room and board costs\n",
    "# Books : Estimated book costs\n",
    "# Personal : Estimated personal spending\n",
    "# PhD : Percent of faculty with Ph.D.’s\n",
    "# Terminal : Percent of faculty with terminal degree\n",
    "# S.F.Ratio : Student/faculty ratio\n",
    "# perc.alumni : Percent of alumni who donate\n",
    "# Expend : Instructional expenditure per student\n",
    "# Grad.Rate : Graduation rate"
   ]
  },
  {
   "cell_type": "code",
   "execution_count": 312,
   "metadata": {
    "scrolled": true
   },
   "outputs": [
    {
     "data": {
      "text/html": [
       "<div>\n",
       "<style scoped>\n",
       "    .dataframe tbody tr th:only-of-type {\n",
       "        vertical-align: middle;\n",
       "    }\n",
       "\n",
       "    .dataframe tbody tr th {\n",
       "        vertical-align: top;\n",
       "    }\n",
       "\n",
       "    .dataframe thead th {\n",
       "        text-align: right;\n",
       "    }\n",
       "</style>\n",
       "<table border=\"1\" class=\"dataframe\">\n",
       "  <thead>\n",
       "    <tr style=\"text-align: right;\">\n",
       "      <th></th>\n",
       "      <th>Unnamed: 0</th>\n",
       "      <th>Private</th>\n",
       "      <th>Apps</th>\n",
       "      <th>Accept</th>\n",
       "      <th>Enroll</th>\n",
       "      <th>Top10perc</th>\n",
       "      <th>Top25perc</th>\n",
       "      <th>F.Undergrad</th>\n",
       "      <th>P.Undergrad</th>\n",
       "      <th>Outstate</th>\n",
       "      <th>Room.Board</th>\n",
       "      <th>Books</th>\n",
       "      <th>Personal</th>\n",
       "      <th>PhD</th>\n",
       "      <th>Terminal</th>\n",
       "      <th>S.F.Ratio</th>\n",
       "      <th>perc.alumni</th>\n",
       "      <th>Expend</th>\n",
       "      <th>Grad.Rate</th>\n",
       "    </tr>\n",
       "  </thead>\n",
       "  <tbody>\n",
       "    <tr>\n",
       "      <th>0</th>\n",
       "      <td>Abilene Christian University</td>\n",
       "      <td>1</td>\n",
       "      <td>1660</td>\n",
       "      <td>1232</td>\n",
       "      <td>721</td>\n",
       "      <td>23</td>\n",
       "      <td>52</td>\n",
       "      <td>2885</td>\n",
       "      <td>537</td>\n",
       "      <td>7440</td>\n",
       "      <td>3300</td>\n",
       "      <td>450</td>\n",
       "      <td>2200</td>\n",
       "      <td>70</td>\n",
       "      <td>78</td>\n",
       "      <td>18.1</td>\n",
       "      <td>12</td>\n",
       "      <td>7041</td>\n",
       "      <td>60</td>\n",
       "    </tr>\n",
       "    <tr>\n",
       "      <th>1</th>\n",
       "      <td>Adelphi University</td>\n",
       "      <td>1</td>\n",
       "      <td>2186</td>\n",
       "      <td>1924</td>\n",
       "      <td>512</td>\n",
       "      <td>16</td>\n",
       "      <td>29</td>\n",
       "      <td>2683</td>\n",
       "      <td>1227</td>\n",
       "      <td>12280</td>\n",
       "      <td>6450</td>\n",
       "      <td>750</td>\n",
       "      <td>1500</td>\n",
       "      <td>29</td>\n",
       "      <td>30</td>\n",
       "      <td>12.2</td>\n",
       "      <td>16</td>\n",
       "      <td>10527</td>\n",
       "      <td>56</td>\n",
       "    </tr>\n",
       "    <tr>\n",
       "      <th>2</th>\n",
       "      <td>Adrian College</td>\n",
       "      <td>1</td>\n",
       "      <td>1428</td>\n",
       "      <td>1097</td>\n",
       "      <td>336</td>\n",
       "      <td>22</td>\n",
       "      <td>50</td>\n",
       "      <td>1036</td>\n",
       "      <td>99</td>\n",
       "      <td>11250</td>\n",
       "      <td>3750</td>\n",
       "      <td>400</td>\n",
       "      <td>1165</td>\n",
       "      <td>53</td>\n",
       "      <td>66</td>\n",
       "      <td>12.9</td>\n",
       "      <td>30</td>\n",
       "      <td>8735</td>\n",
       "      <td>54</td>\n",
       "    </tr>\n",
       "    <tr>\n",
       "      <th>3</th>\n",
       "      <td>Agnes Scott College</td>\n",
       "      <td>1</td>\n",
       "      <td>417</td>\n",
       "      <td>349</td>\n",
       "      <td>137</td>\n",
       "      <td>60</td>\n",
       "      <td>89</td>\n",
       "      <td>510</td>\n",
       "      <td>63</td>\n",
       "      <td>12960</td>\n",
       "      <td>5450</td>\n",
       "      <td>450</td>\n",
       "      <td>875</td>\n",
       "      <td>92</td>\n",
       "      <td>97</td>\n",
       "      <td>7.7</td>\n",
       "      <td>37</td>\n",
       "      <td>19016</td>\n",
       "      <td>59</td>\n",
       "    </tr>\n",
       "    <tr>\n",
       "      <th>4</th>\n",
       "      <td>Alaska Pacific University</td>\n",
       "      <td>1</td>\n",
       "      <td>193</td>\n",
       "      <td>146</td>\n",
       "      <td>55</td>\n",
       "      <td>16</td>\n",
       "      <td>44</td>\n",
       "      <td>249</td>\n",
       "      <td>869</td>\n",
       "      <td>7560</td>\n",
       "      <td>4120</td>\n",
       "      <td>800</td>\n",
       "      <td>1500</td>\n",
       "      <td>76</td>\n",
       "      <td>72</td>\n",
       "      <td>11.9</td>\n",
       "      <td>2</td>\n",
       "      <td>10922</td>\n",
       "      <td>15</td>\n",
       "    </tr>\n",
       "  </tbody>\n",
       "</table>\n",
       "</div>"
      ],
      "text/plain": [
       "                     Unnamed: 0  Private  Apps  Accept  Enroll  Top10perc  \\\n",
       "0  Abilene Christian University        1  1660    1232     721         23   \n",
       "1            Adelphi University        1  2186    1924     512         16   \n",
       "2                Adrian College        1  1428    1097     336         22   \n",
       "3           Agnes Scott College        1   417     349     137         60   \n",
       "4     Alaska Pacific University        1   193     146      55         16   \n",
       "\n",
       "   Top25perc  F.Undergrad  P.Undergrad  Outstate  Room.Board  Books  Personal  \\\n",
       "0         52         2885          537      7440        3300    450      2200   \n",
       "1         29         2683         1227     12280        6450    750      1500   \n",
       "2         50         1036           99     11250        3750    400      1165   \n",
       "3         89          510           63     12960        5450    450       875   \n",
       "4         44          249          869      7560        4120    800      1500   \n",
       "\n",
       "   PhD  Terminal  S.F.Ratio  perc.alumni  Expend  Grad.Rate  \n",
       "0   70        78       18.1           12    7041         60  \n",
       "1   29        30       12.2           16   10527         56  \n",
       "2   53        66       12.9           30    8735         54  \n",
       "3   92        97        7.7           37   19016         59  \n",
       "4   76        72       11.9            2   10922         15  "
      ]
     },
     "execution_count": 312,
     "metadata": {},
     "output_type": "execute_result"
    }
   ],
   "source": [
    "# private = 1, public = 0\n",
    "college_data['Private'] = college_data['Private'].map(dict(Yes=1, No=0))\n",
    "college_data.head()"
   ]
  },
  {
   "cell_type": "code",
   "execution_count": 335,
   "metadata": {},
   "outputs": [
    {
     "data": {
      "text/plain": [
       "Index(['Unnamed: 0', 'Private', 'Apps', 'Accept', 'Enroll', 'Top10perc',\n",
       "       'Top25perc', 'F.Undergrad', 'P.Undergrad', 'Outstate', 'Room.Board',\n",
       "       'Books', 'Personal', 'PhD', 'Terminal', 'S.F.Ratio', 'perc.alumni',\n",
       "       'Expend', 'Grad.Rate'],\n",
       "      dtype='object')"
      ]
     },
     "execution_count": 335,
     "metadata": {},
     "output_type": "execute_result"
    }
   ],
   "source": [
    "college_data.columns"
   ]
  },
  {
   "cell_type": "code",
   "execution_count": 357,
   "metadata": {},
   "outputs": [],
   "source": [
    "college_data.rename(columns = {'Outstate': 'Tuition', 'perc.alumni':'Perc_alum_donate', 'Grad.Rate':'Grad_Rate'}, inplace=True)"
   ]
  },
  {
   "cell_type": "code",
   "execution_count": 364,
   "metadata": {},
   "outputs": [
    {
     "data": {
      "text/plain": [
       "Index(['Unnamed: 0', 'Private', 'Apps', 'Accept', 'Enroll', 'Top10perc',\n",
       "       'Top25perc', 'F.Undergrad', 'P.Undergrad', 'Tuition', 'Room.Board',\n",
       "       'Books', 'Personal', 'PhD', 'Terminal', 'S.F.Ratio', 'Perc_alum_donate',\n",
       "       'Expend', 'Grad_Rate'],\n",
       "      dtype='object')"
      ]
     },
     "execution_count": 364,
     "metadata": {},
     "output_type": "execute_result"
    }
   ],
   "source": [
    "college_data.columns"
   ]
  },
  {
   "cell_type": "code",
   "execution_count": 365,
   "metadata": {
    "scrolled": true
   },
   "outputs": [
    {
     "name": "stdout",
     "output_type": "stream",
     "text": [
      "<class 'pandas.core.frame.DataFrame'>\n",
      "RangeIndex: 777 entries, 0 to 776\n",
      "Data columns (total 19 columns):\n",
      " #   Column            Non-Null Count  Dtype  \n",
      "---  ------            --------------  -----  \n",
      " 0   Unnamed: 0        777 non-null    object \n",
      " 1   Private           777 non-null    int64  \n",
      " 2   Apps              777 non-null    int64  \n",
      " 3   Accept            777 non-null    int64  \n",
      " 4   Enroll            777 non-null    int64  \n",
      " 5   Top10perc         777 non-null    int64  \n",
      " 6   Top25perc         777 non-null    int64  \n",
      " 7   F.Undergrad       777 non-null    int64  \n",
      " 8   P.Undergrad       777 non-null    int64  \n",
      " 9   Tuition           777 non-null    int64  \n",
      " 10  Room.Board        777 non-null    int64  \n",
      " 11  Books             777 non-null    int64  \n",
      " 12  Personal          777 non-null    int64  \n",
      " 13  PhD               777 non-null    int64  \n",
      " 14  Terminal          777 non-null    int64  \n",
      " 15  S.F.Ratio         777 non-null    float64\n",
      " 16  Perc_alum_donate  777 non-null    int64  \n",
      " 17  Expend            777 non-null    int64  \n",
      " 18  Grad_Rate         777 non-null    int64  \n",
      "dtypes: float64(1), int64(17), object(1)\n",
      "memory usage: 115.5+ KB\n"
     ]
    }
   ],
   "source": [
    "college_data.info()"
   ]
  },
  {
   "cell_type": "code",
   "execution_count": 380,
   "metadata": {},
   "outputs": [],
   "source": [
    "# saving as csv\n",
    "college_data_rev.to_csv(r'College_data_final.csv', index = False, header=True)"
   ]
  },
  {
   "cell_type": "code",
   "execution_count": null,
   "metadata": {},
   "outputs": [],
   "source": []
  },
  {
   "cell_type": "code",
   "execution_count": 114,
   "metadata": {},
   "outputs": [
    {
     "name": "stderr",
     "output_type": "stream",
     "text": [
      "\n",
      "\n",
      "====== WebDriver manager ======\n",
      "Current google-chrome version is 100.0.4896\n",
      "Get LATEST chromedriver version for 100.0.4896 google-chrome\n",
      "Driver [/Users/mihohunter/.wdm/drivers/chromedriver/mac64/100.0.4896.60/chromedriver] found in cache\n",
      "<ipython-input-114-640ca51de39a>:2: DeprecationWarning: executable_path has been deprecated, please pass in a Service object\n",
      "  driver1 = webdriver.Chrome(ChromeDriverManager().install())\n"
     ]
    }
   ],
   "source": [
    "# scraping GLOBAL 2000 LIST BY THE CENTER FOR WORLD UNIVERSITY RANKINGS (2021-2022 edition) from Center for World University Rankings\n",
    "url1 = 'https://cwur.org/2021-22.php'\n",
    "driver1 = webdriver.Chrome(ChromeDriverManager().install())\n",
    "driver1.get(url1)"
   ]
  },
  {
   "cell_type": "code",
   "execution_count": 154,
   "metadata": {},
   "outputs": [],
   "source": [
    "from bs4 import BeautifulSoup as bs\n",
    "import pandas as pd"
   ]
  },
  {
   "cell_type": "code",
   "execution_count": 160,
   "metadata": {
    "scrolled": false
   },
   "outputs": [
    {
     "data": {
      "text/html": [
       "<div>\n",
       "<style scoped>\n",
       "    .dataframe tbody tr th:only-of-type {\n",
       "        vertical-align: middle;\n",
       "    }\n",
       "\n",
       "    .dataframe tbody tr th {\n",
       "        vertical-align: top;\n",
       "    }\n",
       "\n",
       "    .dataframe thead th {\n",
       "        text-align: right;\n",
       "    }\n",
       "</style>\n",
       "<table border=\"1\" class=\"dataframe\">\n",
       "  <thead>\n",
       "    <tr style=\"text-align: right;\">\n",
       "      <th></th>\n",
       "      <th>World Rank</th>\n",
       "      <th>Institution</th>\n",
       "      <th>Country</th>\n",
       "      <th>National Rank</th>\n",
       "      <th>Quality of Education Rank</th>\n",
       "      <th>Alumni Employment Rank</th>\n",
       "      <th>Quality of Faculty Rank</th>\n",
       "      <th>Research Performance Rank</th>\n",
       "      <th>Score</th>\n",
       "    </tr>\n",
       "  </thead>\n",
       "  <tbody>\n",
       "    <tr>\n",
       "      <th>0</th>\n",
       "      <td>1</td>\n",
       "      <td>Harvard University</td>\n",
       "      <td>USA</td>\n",
       "      <td>1</td>\n",
       "      <td>1</td>\n",
       "      <td>1</td>\n",
       "      <td>1</td>\n",
       "      <td>1</td>\n",
       "      <td>100</td>\n",
       "    </tr>\n",
       "    <tr>\n",
       "      <th>1</th>\n",
       "      <td>2</td>\n",
       "      <td>Massachusetts Institute of Technology</td>\n",
       "      <td>USA</td>\n",
       "      <td>2</td>\n",
       "      <td>4</td>\n",
       "      <td>12</td>\n",
       "      <td>2</td>\n",
       "      <td>8</td>\n",
       "      <td>96.7</td>\n",
       "    </tr>\n",
       "    <tr>\n",
       "      <th>2</th>\n",
       "      <td>3</td>\n",
       "      <td>Stanford University</td>\n",
       "      <td>USA</td>\n",
       "      <td>3</td>\n",
       "      <td>10</td>\n",
       "      <td>4</td>\n",
       "      <td>3</td>\n",
       "      <td>2</td>\n",
       "      <td>95.1</td>\n",
       "    </tr>\n",
       "    <tr>\n",
       "      <th>3</th>\n",
       "      <td>4</td>\n",
       "      <td>University of Cambridge</td>\n",
       "      <td>United Kingdom</td>\n",
       "      <td>1</td>\n",
       "      <td>3</td>\n",
       "      <td>25</td>\n",
       "      <td>4</td>\n",
       "      <td>10</td>\n",
       "      <td>94.1</td>\n",
       "    </tr>\n",
       "    <tr>\n",
       "      <th>4</th>\n",
       "      <td>5</td>\n",
       "      <td>University of Oxford</td>\n",
       "      <td>United Kingdom</td>\n",
       "      <td>2</td>\n",
       "      <td>7</td>\n",
       "      <td>27</td>\n",
       "      <td>9</td>\n",
       "      <td>4</td>\n",
       "      <td>93.3</td>\n",
       "    </tr>\n",
       "  </tbody>\n",
       "</table>\n",
       "</div>"
      ],
      "text/plain": [
       "  World Rank                            Institution        Country   \\\n",
       "0          1                     Harvard University             USA   \n",
       "1          2  Massachusetts Institute of Technology             USA   \n",
       "2          3                    Stanford University             USA   \n",
       "3          4                University of Cambridge  United Kingdom   \n",
       "4          5                   University of Oxford  United Kingdom   \n",
       "\n",
       "  National Rank Quality of Education Rank Alumni Employment Rank  \\\n",
       "0             1                         1                      1   \n",
       "1             2                         4                     12   \n",
       "2             3                        10                      4   \n",
       "3             1                         3                     25   \n",
       "4             2                         7                     27   \n",
       "\n",
       "  Quality of Faculty Rank Research Performance Rank Score  \n",
       "0                       1                         1   100  \n",
       "1                       2                         8  96.7  \n",
       "2                       3                         2  95.1  \n",
       "3                       4                        10  94.1  \n",
       "4                       9                         4  93.3  "
      ]
     },
     "execution_count": 160,
     "metadata": {},
     "output_type": "execute_result"
    }
   ],
   "source": [
    "soup = bs(driver1.page_source, 'lxml')\n",
    "table = soup.select('table')[0]\n",
    "columns = table.find('thead').find_all('th')\n",
    "column_names = [c.string for c in columns]\n",
    "\n",
    "table_rows = table.find('tbody').find_all('tr')\n",
    "l = []\n",
    "for tr in table_rows:\n",
    "    td = tr.find_all('td')\n",
    "    row = [tr.string for tr in td]\n",
    "    l.append(row)\n",
    "\n",
    "df1 = pd.DataFrame(l,columns = column_names)\n",
    "df1.head()"
   ]
  },
  {
   "cell_type": "code",
   "execution_count": 348,
   "metadata": {},
   "outputs": [],
   "source": [
    "# saving as csv\n",
    "df1.to_csv(r'world_college_data.csv', index = False, header=True)"
   ]
  },
  {
   "cell_type": "code",
   "execution_count": 161,
   "metadata": {},
   "outputs": [
    {
     "data": {
      "text/html": [
       "<div>\n",
       "<style scoped>\n",
       "    .dataframe tbody tr th:only-of-type {\n",
       "        vertical-align: middle;\n",
       "    }\n",
       "\n",
       "    .dataframe tbody tr th {\n",
       "        vertical-align: top;\n",
       "    }\n",
       "\n",
       "    .dataframe thead th {\n",
       "        text-align: right;\n",
       "    }\n",
       "</style>\n",
       "<table border=\"1\" class=\"dataframe\">\n",
       "  <thead>\n",
       "    <tr style=\"text-align: right;\">\n",
       "      <th></th>\n",
       "      <th>World Rank</th>\n",
       "      <th>Institution</th>\n",
       "      <th>Country</th>\n",
       "      <th>National Rank</th>\n",
       "      <th>Quality of Education Rank</th>\n",
       "      <th>Alumni Employment Rank</th>\n",
       "      <th>Quality of Faculty Rank</th>\n",
       "      <th>Research Performance Rank</th>\n",
       "      <th>Score</th>\n",
       "    </tr>\n",
       "  </thead>\n",
       "  <tbody>\n",
       "    <tr>\n",
       "      <th>1995</th>\n",
       "      <td>1996</td>\n",
       "      <td>Santa Catarina State University</td>\n",
       "      <td>Brazil</td>\n",
       "      <td>56</td>\n",
       "      <td>-</td>\n",
       "      <td>936</td>\n",
       "      <td>-</td>\n",
       "      <td>1938</td>\n",
       "      <td>65.8</td>\n",
       "    </tr>\n",
       "    <tr>\n",
       "      <th>1996</th>\n",
       "      <td>1997</td>\n",
       "      <td>Yancheng Institute of Technology</td>\n",
       "      <td>China</td>\n",
       "      <td>275</td>\n",
       "      <td>-</td>\n",
       "      <td>-</td>\n",
       "      <td>-</td>\n",
       "      <td>1920</td>\n",
       "      <td>65.7</td>\n",
       "    </tr>\n",
       "    <tr>\n",
       "      <th>1997</th>\n",
       "      <td>1998</td>\n",
       "      <td>Xi'an University of Science and Technology</td>\n",
       "      <td>China</td>\n",
       "      <td>276</td>\n",
       "      <td>-</td>\n",
       "      <td>994</td>\n",
       "      <td>-</td>\n",
       "      <td>1937</td>\n",
       "      <td>65.7</td>\n",
       "    </tr>\n",
       "    <tr>\n",
       "      <th>1998</th>\n",
       "      <td>1999</td>\n",
       "      <td>CEU San Pablo University</td>\n",
       "      <td>Spain</td>\n",
       "      <td>53</td>\n",
       "      <td>-</td>\n",
       "      <td>568</td>\n",
       "      <td>-</td>\n",
       "      <td>1992</td>\n",
       "      <td>65.7</td>\n",
       "    </tr>\n",
       "    <tr>\n",
       "      <th>1999</th>\n",
       "      <td>2000</td>\n",
       "      <td>Huzhou University</td>\n",
       "      <td>China</td>\n",
       "      <td>277</td>\n",
       "      <td>-</td>\n",
       "      <td>-</td>\n",
       "      <td>-</td>\n",
       "      <td>1922</td>\n",
       "      <td>65.7</td>\n",
       "    </tr>\n",
       "  </tbody>\n",
       "</table>\n",
       "</div>"
      ],
      "text/plain": [
       "     World Rank                                 Institution Country   \\\n",
       "1995       1996             Santa Catarina State University   Brazil   \n",
       "1996       1997            Yancheng Institute of Technology    China   \n",
       "1997       1998  Xi'an University of Science and Technology    China   \n",
       "1998       1999                    CEU San Pablo University    Spain   \n",
       "1999       2000                           Huzhou University    China   \n",
       "\n",
       "     National Rank Quality of Education Rank Alumni Employment Rank  \\\n",
       "1995            56                         -                    936   \n",
       "1996           275                         -                      -   \n",
       "1997           276                         -                    994   \n",
       "1998            53                         -                    568   \n",
       "1999           277                         -                      -   \n",
       "\n",
       "     Quality of Faculty Rank Research Performance Rank Score  \n",
       "1995                       -                      1938  65.8  \n",
       "1996                       -                      1920  65.7  \n",
       "1997                       -                      1937  65.7  \n",
       "1998                       -                      1992  65.7  \n",
       "1999                       -                      1922  65.7  "
      ]
     },
     "execution_count": 161,
     "metadata": {},
     "output_type": "execute_result"
    }
   ],
   "source": [
    "df1.tail()"
   ]
  },
  {
   "cell_type": "code",
   "execution_count": 329,
   "metadata": {},
   "outputs": [
    {
     "data": {
      "text/plain": [
       "World Rank                   object\n",
       "Institution                  object\n",
       "Country                      object\n",
       "National Rank                object\n",
       "Quality of Education Rank    object\n",
       "Alumni Employment Rank       object\n",
       "Quality of Faculty Rank      object\n",
       "Research Performance Rank    object\n",
       "Score                        object\n",
       "dtype: object"
      ]
     },
     "execution_count": 329,
     "metadata": {},
     "output_type": "execute_result"
    }
   ],
   "source": [
    "df1.dtypes"
   ]
  },
  {
   "cell_type": "code",
   "execution_count": 332,
   "metadata": {},
   "outputs": [
    {
     "name": "stdout",
     "output_type": "stream",
     "text": [
      "<class 'pandas.core.frame.DataFrame'>\n",
      "RangeIndex: 2000 entries, 0 to 1999\n",
      "Data columns (total 9 columns):\n",
      " #   Column                     Non-Null Count  Dtype \n",
      "---  ------                     --------------  ----- \n",
      " 0   World Rank                 2000 non-null   object\n",
      " 1   Institution                2000 non-null   object\n",
      " 2   Country                    2000 non-null   object\n",
      " 3   National Rank              2000 non-null   object\n",
      " 4   Quality of Education Rank  2000 non-null   object\n",
      " 5   Alumni Employment Rank     2000 non-null   object\n",
      " 6   Quality of Faculty Rank    2000 non-null   object\n",
      " 7   Research Performance Rank  2000 non-null   object\n",
      " 8   Score                      2000 non-null   object\n",
      "dtypes: object(9)\n",
      "memory usage: 140.8+ KB\n"
     ]
    }
   ],
   "source": [
    "df1.info()"
   ]
  },
  {
   "cell_type": "code",
   "execution_count": 350,
   "metadata": {},
   "outputs": [],
   "source": [
    "df1['Quality of Education Rank'] = pd.to_numeric(df1['Quality of Education Rank'], errors='coerce')\n",
    "df1['Alumni Employment Rank'] = pd.to_numeric(df1['Alumni Employment Rank'], errors='coerce')\n",
    "df1['Quality of Faculty Rank'] = pd.to_numeric(df1['Quality of Faculty Rank'], errors='coerce')\n",
    "df1['Research Performance Rank'] = pd.to_numeric(df1['Research Performance Rank'], errors='coerce')"
   ]
  },
  {
   "cell_type": "code",
   "execution_count": 351,
   "metadata": {},
   "outputs": [],
   "source": [
    "# converting \"World Rank\" to score (max 100)\n",
    "# formula: (1-(N/2000)) * 100 + 0.05\n",
    "\n",
    "df1['Quality of Education'] = (1 - (df1['Quality of Education Rank']/2000)) * 100 + 0.05\n",
    "df1['Alumni Employment'] = (1 - (df1['Alumni Employment Rank']/2000)) * 100 + 0.05\n",
    "df1['Quality of Faculty'] = (1 - (df1['Quality of Faculty Rank']/2000)) * 100 + 0.05\n",
    "df1['Research Performance'] = (1 - (df1['Research Performance Rank']/2000)) * 100 + 0.05"
   ]
  },
  {
   "cell_type": "code",
   "execution_count": 352,
   "metadata": {},
   "outputs": [
    {
     "data": {
      "text/html": [
       "<div>\n",
       "<style scoped>\n",
       "    .dataframe tbody tr th:only-of-type {\n",
       "        vertical-align: middle;\n",
       "    }\n",
       "\n",
       "    .dataframe tbody tr th {\n",
       "        vertical-align: top;\n",
       "    }\n",
       "\n",
       "    .dataframe thead th {\n",
       "        text-align: right;\n",
       "    }\n",
       "</style>\n",
       "<table border=\"1\" class=\"dataframe\">\n",
       "  <thead>\n",
       "    <tr style=\"text-align: right;\">\n",
       "      <th></th>\n",
       "      <th>World Rank</th>\n",
       "      <th>Institution</th>\n",
       "      <th>Country</th>\n",
       "      <th>National Rank</th>\n",
       "      <th>Quality of Education Rank</th>\n",
       "      <th>Alumni Employment Rank</th>\n",
       "      <th>Quality of Faculty Rank</th>\n",
       "      <th>Research Performance Rank</th>\n",
       "      <th>Score</th>\n",
       "      <th>Quality of Education</th>\n",
       "      <th>Alumni Employment</th>\n",
       "      <th>Quality of Faculty</th>\n",
       "      <th>Research Performance</th>\n",
       "    </tr>\n",
       "  </thead>\n",
       "  <tbody>\n",
       "    <tr>\n",
       "      <th>0</th>\n",
       "      <td>1</td>\n",
       "      <td>Harvard University</td>\n",
       "      <td>USA</td>\n",
       "      <td>1</td>\n",
       "      <td>1.0</td>\n",
       "      <td>1.0</td>\n",
       "      <td>1.0</td>\n",
       "      <td>1.0</td>\n",
       "      <td>100</td>\n",
       "      <td>100.00</td>\n",
       "      <td>100.00</td>\n",
       "      <td>100.00</td>\n",
       "      <td>100.00</td>\n",
       "    </tr>\n",
       "    <tr>\n",
       "      <th>1</th>\n",
       "      <td>2</td>\n",
       "      <td>Massachusetts Institute of Technology</td>\n",
       "      <td>USA</td>\n",
       "      <td>2</td>\n",
       "      <td>4.0</td>\n",
       "      <td>12.0</td>\n",
       "      <td>2.0</td>\n",
       "      <td>8.0</td>\n",
       "      <td>96.7</td>\n",
       "      <td>99.85</td>\n",
       "      <td>99.45</td>\n",
       "      <td>99.95</td>\n",
       "      <td>99.65</td>\n",
       "    </tr>\n",
       "    <tr>\n",
       "      <th>2</th>\n",
       "      <td>3</td>\n",
       "      <td>Stanford University</td>\n",
       "      <td>USA</td>\n",
       "      <td>3</td>\n",
       "      <td>10.0</td>\n",
       "      <td>4.0</td>\n",
       "      <td>3.0</td>\n",
       "      <td>2.0</td>\n",
       "      <td>95.1</td>\n",
       "      <td>99.55</td>\n",
       "      <td>99.85</td>\n",
       "      <td>99.90</td>\n",
       "      <td>99.95</td>\n",
       "    </tr>\n",
       "    <tr>\n",
       "      <th>3</th>\n",
       "      <td>4</td>\n",
       "      <td>University of Cambridge</td>\n",
       "      <td>United Kingdom</td>\n",
       "      <td>1</td>\n",
       "      <td>3.0</td>\n",
       "      <td>25.0</td>\n",
       "      <td>4.0</td>\n",
       "      <td>10.0</td>\n",
       "      <td>94.1</td>\n",
       "      <td>99.90</td>\n",
       "      <td>98.80</td>\n",
       "      <td>99.85</td>\n",
       "      <td>99.55</td>\n",
       "    </tr>\n",
       "    <tr>\n",
       "      <th>4</th>\n",
       "      <td>5</td>\n",
       "      <td>University of Oxford</td>\n",
       "      <td>United Kingdom</td>\n",
       "      <td>2</td>\n",
       "      <td>7.0</td>\n",
       "      <td>27.0</td>\n",
       "      <td>9.0</td>\n",
       "      <td>4.0</td>\n",
       "      <td>93.3</td>\n",
       "      <td>99.70</td>\n",
       "      <td>98.70</td>\n",
       "      <td>99.60</td>\n",
       "      <td>99.85</td>\n",
       "    </tr>\n",
       "  </tbody>\n",
       "</table>\n",
       "</div>"
      ],
      "text/plain": [
       "  World Rank                            Institution        Country   \\\n",
       "0          1                     Harvard University             USA   \n",
       "1          2  Massachusetts Institute of Technology             USA   \n",
       "2          3                    Stanford University             USA   \n",
       "3          4                University of Cambridge  United Kingdom   \n",
       "4          5                   University of Oxford  United Kingdom   \n",
       "\n",
       "  National Rank  Quality of Education Rank  Alumni Employment Rank  \\\n",
       "0             1                        1.0                     1.0   \n",
       "1             2                        4.0                    12.0   \n",
       "2             3                       10.0                     4.0   \n",
       "3             1                        3.0                    25.0   \n",
       "4             2                        7.0                    27.0   \n",
       "\n",
       "   Quality of Faculty Rank  Research Performance Rank Score  \\\n",
       "0                      1.0                        1.0   100   \n",
       "1                      2.0                        8.0  96.7   \n",
       "2                      3.0                        2.0  95.1   \n",
       "3                      4.0                       10.0  94.1   \n",
       "4                      9.0                        4.0  93.3   \n",
       "\n",
       "   Quality of Education  Alumni Employment  Quality of Faculty  \\\n",
       "0                100.00             100.00              100.00   \n",
       "1                 99.85              99.45               99.95   \n",
       "2                 99.55              99.85               99.90   \n",
       "3                 99.90              98.80               99.85   \n",
       "4                 99.70              98.70               99.60   \n",
       "\n",
       "   Research Performance  \n",
       "0                100.00  \n",
       "1                 99.65  \n",
       "2                 99.95  \n",
       "3                 99.55  \n",
       "4                 99.85  "
      ]
     },
     "execution_count": 352,
     "metadata": {},
     "output_type": "execute_result"
    }
   ],
   "source": [
    "df1.head()"
   ]
  },
  {
   "cell_type": "code",
   "execution_count": 353,
   "metadata": {},
   "outputs": [],
   "source": [
    "# saving as csv\n",
    "df1.to_csv(r'world_college_data_final.csv', index = False, header=True)"
   ]
  }
 ],
 "metadata": {
  "kernelspec": {
   "display_name": "Python 3",
   "language": "python",
   "name": "python3"
  },
  "language_info": {
   "codemirror_mode": {
    "name": "ipython",
    "version": 3
   },
   "file_extension": ".py",
   "mimetype": "text/x-python",
   "name": "python",
   "nbconvert_exporter": "python",
   "pygments_lexer": "ipython3",
   "version": "3.8.5"
  }
 },
 "nbformat": 4,
 "nbformat_minor": 4
}
